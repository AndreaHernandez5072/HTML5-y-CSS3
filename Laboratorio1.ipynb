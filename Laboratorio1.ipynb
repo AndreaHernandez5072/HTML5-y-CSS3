{
  "nbformat": 4,
  "nbformat_minor": 0,
  "metadata": {
    "colab": {
      "provenance": [],
      "toc_visible": true,
      "authorship_tag": "ABX9TyOZa3lG9KMBGAWXRHK/8+W0",
      "include_colab_link": true
    },
    "kernelspec": {
      "name": "python3",
      "display_name": "Python 3"
    },
    "language_info": {
      "name": "python"
    }
  },
  "cells": [
    {
      "cell_type": "markdown",
      "metadata": {
        "id": "view-in-github",
        "colab_type": "text"
      },
      "source": [
        "<a href=\"https://colab.research.google.com/github/AndreaHernandez5072/HTML5-y-CSS3/blob/main/Laboratorio1.ipynb\" target=\"_parent\"><img src=\"https://colab.research.google.com/assets/colab-badge.svg\" alt=\"Open In Colab\"/></a>"
      ]
    },
    {
      "cell_type": "markdown",
      "source": [
        "# **Laboratorio 1 - Python**"
      ],
      "metadata": {
        "id": "vXxw8_zxX96E"
      }
    },
    {
      "cell_type": "code",
      "execution_count": 13,
      "metadata": {
        "id": "Hapk6QJpUIYV"
      },
      "outputs": [],
      "source": [
        "import numpy as np #Permite cálculo númerio, análisis de datos y gestión de array\n",
        "import timeit #libreria para tomar tiempo\n",
        "import pandas as pd\n",
        "import matplotlib.pyplot as plt"
      ]
    },
    {
      "cell_type": "markdown",
      "source": [
        "Operaciones vectorizadas estas son las operaciones vectorizadas\n",
        "Todo ejecuta de manera secuencial, si dejo el proyecto por 20 minutos, debo ejecutar todo. Ir a ventana denominada entorno de ejecución y elegir la opción \"Ejecutar todo\".\n",
        "\n",
        "Preferencia usar una operación vectorizada en lugar de hacer ciclos."
      ],
      "metadata": {
        "id": "1NetSmY1ZC_v"
      }
    },
    {
      "cell_type": "code",
      "source": [
        "total = 0\n",
        "\n",
        "#for desde 0 hasta 15 mil\n",
        "for item in range(0,15000):\n",
        "  total += item\n",
        "a = total\n",
        "print (\"\\n Total fue: \"+str(a))\n",
        "print (\"Tiempo que tomo la suma iterativa;\",end=\"\")\n",
        "%timeit a #Tiempo de ejecución"
      ],
      "metadata": {
        "colab": {
          "base_uri": "https://localhost:8080/"
        },
        "id": "x-Rx6Q5sZSvO",
        "outputId": "8ca8b490-4ef2-4243-f9ac-22fcd8fba102"
      },
      "execution_count": 14,
      "outputs": [
        {
          "output_type": "stream",
          "name": "stdout",
          "text": [
            "\n",
            " Total fue: 112492500\n",
            "Tiempo que tomo la suma iterativa;31.7 ns ± 0.68 ns per loop (mean ± std. dev. of 7 runs, 10000000 loops each)\n"
          ]
        }
      ]
    },
    {
      "cell_type": "code",
      "source": [
        "d = np.arange(15000) #crear un vector entre 0 y 15 mil\n",
        "d\n",
        "print(\"\\nResultado de la suma del conetnido array es \",np.sum(d))\n",
        "print(\"El tiempo que toma efectuar la operación vectorizada es \", end=\"\")\n",
        "%timeit np.sum(d)"
      ],
      "metadata": {
        "colab": {
          "base_uri": "https://localhost:8080/"
        },
        "id": "cquvsE2IbHUT",
        "outputId": "cb42abd9-09d0-435a-9e1d-bafced002eb3"
      },
      "execution_count": 28,
      "outputs": [
        {
          "output_type": "stream",
          "name": "stdout",
          "text": [
            "\n",
            "Resultado de la suma del conetnido array es  112492500\n",
            "El tiempo que toma efectuar la operación vectorizada es 7.5 µs ± 518 ns per loop (mean ± std. dev. of 7 runs, 100000 loops each)\n"
          ]
        }
      ]
    },
    {
      "cell_type": "markdown",
      "source": [
        "# **Más operaciones vectorizadas**\n",
        "Al usar float, debemos tener cuidado debido a que python almacena todos los decimales y si hacemos un if debemos considerar eso.\n",
        "\n",
        "Es un lenguaje interpretado, cargo a memoria en conformidad de como ejecute. Entonces, declaro una variable en la parte superior que ya habia declarado abajo, tendra el valor de abajo en lugar de arriba porque primero ejecute el valor de abajo."
      ],
      "metadata": {
        "id": "Xl58ra_sc9AX"
      }
    },
    {
      "cell_type": "code",
      "source": [
        "a = np.array([1,2,3])\n",
        "b = np.array([(1.5,2,3),(2.3,1,3)],dtype=float) #\n",
        "b"
      ],
      "metadata": {
        "colab": {
          "base_uri": "https://localhost:8080/"
        },
        "id": "F_7mfldWc1nF",
        "outputId": "edff880f-76f0-407e-e5e5-a470b77b8d0c"
      },
      "execution_count": 36,
      "outputs": [
        {
          "output_type": "execute_result",
          "data": {
            "text/plain": [
              "array([[1.5, 2. , 3. ],\n",
              "       [2.3, 1. , 3. ]])"
            ]
          },
          "metadata": {},
          "execution_count": 36
        }
      ]
    },
    {
      "cell_type": "markdown",
      "source": [
        "El lenguaje sigue las reglas del algebra lineal. Es decir, puede hacer suma de producto cruz y producto punto. Se puede observar en el siguiente bloque de código."
      ],
      "metadata": {
        "id": "TzsGP7BhesaK"
      }
    },
    {
      "cell_type": "code",
      "source": [
        "c = a+b\n",
        "c"
      ],
      "metadata": {
        "colab": {
          "base_uri": "https://localhost:8080/"
        },
        "id": "H3H0i-XVefnr",
        "outputId": "25072fe0-cdb0-4c43-a6b2-5f9ed09d8f7e"
      },
      "execution_count": 38,
      "outputs": [
        {
          "output_type": "execute_result",
          "data": {
            "text/plain": [
              "array([[2.5, 4. , 6. ],\n",
              "       [3.3, 3. , 6. ]])"
            ]
          },
          "metadata": {},
          "execution_count": 38
        }
      ]
    },
    {
      "cell_type": "markdown",
      "source": [
        "Puede hacer operaciones vectoriales sin ciclos. Asimismo, puede hacer con booleanos y otros valores"
      ],
      "metadata": {
        "id": "_AfLfvZOfYWW"
      }
    },
    {
      "cell_type": "code",
      "source": [
        "h=a/b\n",
        "h"
      ],
      "metadata": {
        "colab": {
          "base_uri": "https://localhost:8080/"
        },
        "id": "75JMJBHYfLp_",
        "outputId": "d1e2f0e2-4047-4589-88aa-cd689b1b45de"
      },
      "execution_count": 39,
      "outputs": [
        {
          "output_type": "execute_result",
          "data": {
            "text/plain": [
              "array([[0.66666667, 1.        , 1.        ],\n",
              "       [0.43478261, 2.        , 1.        ]])"
            ]
          },
          "metadata": {},
          "execution_count": 39
        }
      ]
    },
    {
      "cell_type": "markdown",
      "source": [
        "Puedo hacer operaciones booleanas vectorizadas, permitiendo hacer cualquier tipo de operación. Sin importar el dato."
      ],
      "metadata": {
        "id": "Oj8cLVnqfmvB"
      }
    },
    {
      "cell_type": "code",
      "source": [
        "a == b"
      ],
      "metadata": {
        "colab": {
          "base_uri": "https://localhost:8080/"
        },
        "id": "QZ91JSMofh2A",
        "outputId": "a9e5c6f6-23f4-4f22-8547-3c9553aff5a3"
      },
      "execution_count": 40,
      "outputs": [
        {
          "output_type": "execute_result",
          "data": {
            "text/plain": [
              "array([[False,  True,  True],\n",
              "       [False, False,  True]])"
            ]
          },
          "metadata": {},
          "execution_count": 40
        }
      ]
    },
    {
      "cell_type": "code",
      "source": [
        "a < b"
      ],
      "metadata": {
        "colab": {
          "base_uri": "https://localhost:8080/"
        },
        "id": "BrRO6V7-fyeE",
        "outputId": "6f8005a0-d1a7-4016-bd2d-55fb5a4e2a91"
      },
      "execution_count": 44,
      "outputs": [
        {
          "output_type": "execute_result",
          "data": {
            "text/plain": [
              "array([[ True, False, False],\n",
              "       [ True, False, False]])"
            ]
          },
          "metadata": {},
          "execution_count": 44
        }
      ]
    },
    {
      "cell_type": "markdown",
      "source": [
        "Python, utiliza listas pero no es tan necesario"
      ],
      "metadata": {
        "id": "O0ThHy49gHsE"
      }
    },
    {
      "cell_type": "code",
      "source": [],
      "metadata": {
        "id": "y5CuXN1IgdPP"
      },
      "execution_count": null,
      "outputs": []
    }
  ]
}